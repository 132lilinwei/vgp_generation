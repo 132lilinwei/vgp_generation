{
 "cells": [
  {
   "cell_type": "code",
   "execution_count": 1,
   "metadata": {},
   "outputs": [],
   "source": [
    "supervised_data = EntityBiAttnSupervisedDataset(config, image_feature_folder, entity_feature_folder, entity_caption_path)\n",
    "supervised_loader = DataLoader(supervised_data, batch_size=256, shuffle=False, num_workers = 4, collate_fn=lambda batch: entity_bi_attn_supervised_collate_fn(batch, config))"
   ]
  },
  {
   "cell_type": "code",
   "execution_count": null,
   "metadata": {},
   "outputs": [],
   "source": [
    "from collections import defaultdict\n",
    "mapping = defaultdict(list)\n",
    "for ct, data in enumerate(supervised_loader):\n",
    "    if ct % 10 == 0:\n",
    "        print(ct, \"/\", len(supervised_loader))\n",
    "    entity_id = data['entity_id']\n",
    "    desc_id = data['desc_id']\n",
    "    \n",
    "    for i in range(len(entity_id)):\n",
    "        mapping[entity_id[i]].append(desc_id[i])\n",
    "print(mapping)"
   ]
  }
 ],
 "metadata": {
  "kernelspec": {
   "display_name": "PyTorch 1.6",
   "language": "python",
   "name": "torch16"
  },
  "language_info": {
   "codemirror_mode": {
    "name": "ipython",
    "version": 3
   },
   "file_extension": ".py",
   "mimetype": "text/x-python",
   "name": "python",
   "nbconvert_exporter": "python",
   "pygments_lexer": "ipython3",
   "version": "3.7.6"
  }
 },
 "nbformat": 4,
 "nbformat_minor": 4
}
